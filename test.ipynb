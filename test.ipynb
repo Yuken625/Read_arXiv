{
 "cells": [
  {
   "cell_type": "code",
   "execution_count": 1,
   "metadata": {},
   "outputs": [
    {
     "data": {
      "text/plain": [
       "\"N132D is the brightest gamma-ray supernova remnant (SNR) in the Large Magellanic Cloud (LMC). We carried out $^{12}$CO($J$ = 1-0, 3-2) observations toward the SNR using the Atacama Large Millimeter/submillimeter Array (ALMA) and Atacama Submillimeter Telescope Experiment. We find diffuse CO emission not only at the southern edge of the SNR as previously known, but also inside the X-ray shell. We spatially resolved nine molecular clouds using ALMA with an angular resolution of $5''$, corresponding to a spatial resolution of $ sim$1 pc at the distance of the LMC. Typical cloud sizes and masses are $ sim$2.0 pc and $ sim$100 $M_ odot$, respectively. High-intensity ratios of CO $J$ = 3-2 / 1-0 $> 1.5$ are seen toward the molecular clouds, indicating that shock-heating has occurred. Spatially resolved X-ray spectroscopy reveals that thermal X-rays in the center of N132D are produced not only behind a molecular cloud, but also in front of it. Considering the absence of a thermal component associated with the forward shock towards one molecular cloud located along the line of sight to the center of the remnant, this suggests that this particular cloud is engulfed by shock waves and is positioned on the near side of remnant. If the hadronic process is the dominant contributor to the gamma-ray emission, the shock-engulfed clouds play a role as targets for cosmic-rays. We estimate the total energy of cosmic-ray protons accelerated in N132D to be $ sim$0.5-$3.8  times 10^{49}$ erg as a conservative lower limit, which is similar to that observed in Galactic gamma-ray SNRs.\""
      ]
     },
     "metadata": {},
     "output_type": "display_data"
    }
   ],
   "source": [
    "from readarxiv import make_summary\n",
    "\n",
    "arxiv_id = '2007.07900'\n",
    "arxiv = make_summary(arxiv_id)"
   ]
  },
  {
   "cell_type": "code",
   "execution_count": 5,
   "metadata": {},
   "outputs": [
    {
     "ename": "NameError",
     "evalue": "name 'arxiv' is not defined",
     "output_type": "error",
     "traceback": [
      "\u001b[0;31m---------------------------------------------------------------------------\u001b[0m",
      "\u001b[0;31mNameError\u001b[0m                                 Traceback (most recent call last)",
      "\u001b[1;32m/Users/yuken/work/paper/Read_arXiv/test.ipynb セル 2\u001b[0m line \u001b[0;36m1\n\u001b[0;32m----> <a href='vscode-notebook-cell:/Users/yuken/work/paper/Read_arXiv/test.ipynb#W5sZmlsZQ%3D%3D?line=0'>1</a>\u001b[0m display(arxiv\u001b[39m.\u001b[39mabstract)\n",
      "\u001b[0;31mNameError\u001b[0m: name 'arxiv' is not defined"
     ]
    }
   ],
   "source": [
    "display(arxiv.abstract)"
   ]
  },
  {
   "cell_type": "code",
   "execution_count": null,
   "metadata": {},
   "outputs": [],
   "source": []
  }
 ],
 "metadata": {
  "kernelspec": {
   "display_name": "pdfedit",
   "language": "python",
   "name": "python3"
  },
  "language_info": {
   "codemirror_mode": {
    "name": "ipython",
    "version": 3
   },
   "file_extension": ".py",
   "mimetype": "text/x-python",
   "name": "python",
   "nbconvert_exporter": "python",
   "pygments_lexer": "ipython3",
   "version": "3.11.5"
  },
  "orig_nbformat": 4
 },
 "nbformat": 4,
 "nbformat_minor": 2
}
